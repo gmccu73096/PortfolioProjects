{
  "nbformat": 4,
  "nbformat_minor": 0,
  "metadata": {
    "colab": {
      "name": "TripData Aggregation and Cleaning.ipynb",
      "provenance": [],
      "authorship_tag": "ABX9TyOJ8jYfpGdRO9m6CW+ciwN/",
      "include_colab_link": true
    },
    "kernelspec": {
      "name": "python3",
      "display_name": "Python 3"
    },
    "language_info": {
      "name": "python"
    }
  },
  "cells": [
    {
      "cell_type": "markdown",
      "metadata": {
        "id": "view-in-github",
        "colab_type": "text"
      },
      "source": [
        "<a href=\"https://colab.research.google.com/github/gmccu73096/PortfolioProjects/blob/main/TripData_Aggregation_and_Cleaning.ipynb\" target=\"_parent\"><img src=\"https://colab.research.google.com/assets/colab-badge.svg\" alt=\"Open In Colab\"/></a>"
      ]
    },
    {
      "cell_type": "code",
      "source": [
        "#mount your drive\n",
        "from google.colab import drive\n",
        "drive.mount('/content/drive',force_remount=True)"
      ],
      "metadata": {
        "colab": {
          "base_uri": "https://localhost:8080/"
        },
        "id": "hYyo4M37u9QB",
        "outputId": "9c2b283e-9efc-4c5f-974f-98a59fa541d6"
      },
      "execution_count": null,
      "outputs": [
        {
          "output_type": "stream",
          "name": "stdout",
          "text": [
            "Mounted at /content/drive\n"
          ]
        }
      ]
    },
    {
      "cell_type": "code",
      "source": [
        "#import libraries\n",
        "import pandas as pd\n",
        "import numpy as np"
      ],
      "metadata": {
        "id": "hk8pjXBXvIG9"
      },
      "execution_count": null,
      "outputs": []
    },
    {
      "cell_type": "markdown",
      "source": [
        "#Extract\n"
      ],
      "metadata": {
        "id": "o0Ybfaqy1ple"
      }
    },
    {
      "cell_type": "code",
      "source": [
        "#Upload tables\n",
        "Oct2020_df = pd.read_csv('/content/drive/MyDrive/Data Analysis/tripdata/Raw/2020_10_divvy-tripdata.csv')\n",
        "Nov2020_df = pd.read_csv('/content/drive/MyDrive/Data Analysis/tripdata/Raw/2020_11_divvy-tripdata.csv')\n",
        "Dec2020_df = pd.read_csv('/content/drive/MyDrive/Data Analysis/tripdata/Raw/2020_12_divvy-tripdata.csv')\n",
        "Jan2021_df = pd.read_csv('/content/drive/MyDrive/Data Analysis/tripdata/Raw/2021_01_divvy-tripdata.csv')\n",
        "Feb2021_df = pd.read_csv('/content/drive/MyDrive/Data Analysis/tripdata/Raw/2021_02_divvy-tripdata.csv')\n",
        "Mar2021_df = pd.read_csv('/content/drive/MyDrive/Data Analysis/tripdata/Raw/2021_03_divvy-tripdata.csv')\n",
        "Apr2021_df = pd.read_csv('/content/drive/MyDrive/Data Analysis/tripdata/Raw/2021_04_divvy-tripdata.csv')\n",
        "May2021_df = pd.read_csv('/content/drive/MyDrive/Data Analysis/tripdata/Raw/2021_05_divvy-tripdata.csv')\n",
        "Jun2021_df = pd.read_csv('/content/drive/MyDrive/Data Analysis/tripdata/Raw/2021_06_divvy-tripdata.csv')\n",
        "Jul2021_df = pd.read_csv('/content/drive/MyDrive/Data Analysis/tripdata/Raw/2021_07_divvy-tripdata.csv')\n",
        "Aug2021_df = pd.read_csv('/content/drive/MyDrive/Data Analysis/tripdata/Raw/2021_08_divvy-tripdata.csv')\n",
        "Sep2021_df = pd.read_csv('/content/drive/MyDrive/Data Analysis/tripdata/Raw/2021_09_divvy-tripdata.csv')\n",
        "Oct2021_df = pd.read_csv('/content/drive/MyDrive/Data Analysis/tripdata/Raw/2021_10_divvy-tripdata.csv')\n"
      ],
      "metadata": {
        "id": "s1KHr_YSvYOJ"
      },
      "execution_count": null,
      "outputs": []
    },
    {
      "cell_type": "markdown",
      "source": [
        "# Transform"
      ],
      "metadata": {
        "id": "k-JplNmaNL14"
      }
    },
    {
      "cell_type": "code",
      "source": [
        "#merge tables\n",
        "year_df = pd.concat([Oct2020_df,Nov2020_df,Dec2020_df,Jan2021_df,Feb2021_df,Mar2021_df,Apr2021_df,May2021_df,Jun2021_df,Jul2021_df,Aug2021_df,Sep2021_df,Oct2021_df])"
      ],
      "metadata": {
        "id": "sx226Jn33185"
      },
      "execution_count": null,
      "outputs": []
    },
    {
      "cell_type": "code",
      "source": [
        "#check for null values\n",
        "year_df.isna().sum()"
      ],
      "metadata": {
        "colab": {
          "base_uri": "https://localhost:8080/"
        },
        "id": "bhhTjoslg9WK",
        "outputId": "c19f4e6d-4264-410f-f9f2-fa647ad8abfc"
      },
      "execution_count": null,
      "outputs": [
        {
          "output_type": "execute_result",
          "data": {
            "text/plain": [
              "ride_id                    0\n",
              "rideable_type              0\n",
              "started_at                 0\n",
              "ended_at                   0\n",
              "ride_length                0\n",
              "day_of_week                0\n",
              "start_station_name    631677\n",
              "start_station_id      631991\n",
              "end_station_name      682102\n",
              "end_station_id        682335\n",
              "start_lat                  0\n",
              "start_lng                  0\n",
              "end_lat                 5305\n",
              "end_lng                 5305\n",
              "member_casual              0\n",
              "dtype: int64"
            ]
          },
          "metadata": {},
          "execution_count": 8
        }
      ]
    },
    {
      "cell_type": "code",
      "source": [
        "#drop null values\n",
        "year_df = year_df.dropna()"
      ],
      "metadata": {
        "id": "zQPYWND54oKT"
      },
      "execution_count": null,
      "outputs": []
    },
    {
      "cell_type": "code",
      "source": [
        "#add 'route' column\n",
        "year_df['route'] = year_df['start_station_name'] + \" to \" + year_df['end_station_name']"
      ],
      "metadata": {
        "id": "ihQg4OZ9NmR9"
      },
      "execution_count": null,
      "outputs": []
    },
    {
      "cell_type": "code",
      "source": [
        "#make sure we have the schema that we want\n",
        "year_df['ride_id'] =  year_df['ride_id'].astype('string')\n",
        "year_df['rideable_type'] =  year_df['rideable_type'].astype('string')\n",
        "year_df['started_at'] =  year_df['started_at'].astype('datetime64[ns]')\n",
        "year_df['ended_at'] =  year_df['ended_at'].astype('datetime64[ns]')\n",
        "year_df['ride_length'] =  year_df['ride_length'].astype('float64')\n",
        "year_df['day_of_week'] =  year_df['day_of_week'].astype('int64')\n",
        "year_df['start_station_name'] =  year_df['start_station_name'].astype('string')\n",
        "year_df['start_station_id'] =  year_df['start_station_id'].astype('string')\n",
        "year_df['end_station_name'] =  year_df['end_station_name'].astype('string')\n",
        "year_df['end_station_id'] =  year_df['end_station_id'].astype('string')\n",
        "year_df['start_lat'] =  year_df['start_lat'].astype('float64')\n",
        "year_df['start_lng'] =  year_df['start_lng'].astype('float64')\n",
        "year_df['end_lat'] =  year_df['end_lat'].astype('float64')\n",
        "year_df['end_lng'] =  year_df['end_lng'].astype('float64')\n",
        "year_df['member_casual'] =  year_df['member_casual'].astype('string')"
      ],
      "metadata": {
        "id": "39HwNAuRKg98"
      },
      "execution_count": null,
      "outputs": []
    },
    {
      "cell_type": "code",
      "source": [
        "#goes through and trims the string columns\n",
        "for colval in year_df:\n",
        "  x = str(year_df[colval].dtypes)\n",
        "  y = str(colval)\n",
        "  if x == 'string':\n",
        "    year_df[y] = year_df[y].str.strip()"
      ],
      "metadata": {
        "id": "VHQpoFF1_6u0"
      },
      "execution_count": null,
      "outputs": []
    },
    {
      "cell_type": "code",
      "source": [
        "#goes through and drops any duplicates from ride_id (our primary key)\n",
        "year_df = year_df.drop_duplicates(subset=[\"ride_id\"])"
      ],
      "metadata": {
        "id": "TkYHlabYVOYW"
      },
      "execution_count": null,
      "outputs": []
    },
    {
      "cell_type": "code",
      "source": [
        "#gets rid of rides less that one minute (I'm assuming these rides are insignificant for analysis purposes)\n",
        "year_df = year_df[year_df['ride_length'] >= 1]"
      ],
      "metadata": {
        "id": "O-UOylxbWhH5"
      },
      "execution_count": null,
      "outputs": []
    },
    {
      "cell_type": "code",
      "source": [
        "#seperate outliers into another table\n",
        "from scipy import stats\n",
        "year_df_outliers = year_df[np.abs(stats.zscore(year_df['ride_length'])) >= 3]\n",
        "year_df = year_df[np.abs(stats.zscore(year_df['ride_length'])) < 3]"
      ],
      "metadata": {
        "id": "mOnTKRYgZkp0"
      },
      "execution_count": null,
      "outputs": []
    },
    {
      "cell_type": "markdown",
      "source": [
        "#Load"
      ],
      "metadata": {
        "id": "UPt3UhNaNPjM"
      }
    },
    {
      "cell_type": "code",
      "source": [
        "year_df.to_csv('/content/drive/MyDrive/Data Analysis/tripdata/tripdata_Oct2020_Oct2021.csv', index = False)\n",
        "year_df_outliers.to_csv('/content/drive/MyDrive/Data Analysis/tripdata/tripdata_Oct2020_Oct2021_outliers.csv', index = False)"
      ],
      "metadata": {
        "id": "mH_tTRv1M879"
      },
      "execution_count": null,
      "outputs": []
    }
  ]
}